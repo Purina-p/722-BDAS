{
 "cells": [
  {
   "cell_type": "code",
   "execution_count": 1,
   "id": "9890516e",
   "metadata": {},
   "outputs": [],
   "source": [
    "import pandas as pd"
   ]
  },
  {
   "cell_type": "code",
   "execution_count": 2,
   "id": "e7aa45b9",
   "metadata": {},
   "outputs": [
    {
     "name": "stdout",
     "output_type": "stream",
     "text": [
      "No duplicate rows found after merging!\n",
      "Columns in the merged dataset:\n",
      "Index(['iso_code', 'location', 'date', 'total_cases', 'total_deaths',\n",
      "       'stringency_index', 'population', 'gdp_per_capita',\n",
      "       'human_development_index', 'Unnamed: 9', 'Unnamed: 10', 'Unnamed: 11',\n",
      "       'Unnamed: 12', 'Unnamed: 13', 'CODE', 'HDI', 'TC', 'TD', 'STI', 'POP',\n",
      "       'GDPCAP'],\n",
      "      dtype='object')\n"
     ]
    }
   ],
   "source": [
    "df = pd.read_excel('raw_data.xlsx')\n",
    "df2 = pd.read_excel('data.xlsx')\n",
    "\n",
    "df['date'] = pd.to_datetime(df['date'])\n",
    "df2['date'] = pd.to_datetime(df2['date'])\n",
    "\n",
    "merged_df = pd.merge(df, df2, on=['location', 'date'], how='inner')\n",
    "\n",
    "duplicates = merged_df.duplicated()\n",
    "if duplicates.sum() == 0:\n",
    "    print(\"No duplicate rows found after merging!\")\n",
    "else:\n",
    "    print(f\"Found {duplicates.sum()} duplicate rows after merging.\")\n",
    "\n",
    "merged_df.to_csv('Merged_Dataset.csv', index=False)\n",
    "\n",
    "print(\"Columns in the merged dataset:\")\n",
    "print(merged_df.columns)"
   ]
  },
  {
   "cell_type": "code",
   "execution_count": null,
   "id": "9b1277f0",
   "metadata": {},
   "outputs": [],
   "source": []
  }
 ],
 "metadata": {
  "kernelspec": {
   "display_name": "Python 3 (ipykernel)",
   "language": "python",
   "name": "python3"
  },
  "language_info": {
   "codemirror_mode": {
    "name": "ipython",
    "version": 3
   },
   "file_extension": ".py",
   "mimetype": "text/x-python",
   "name": "python",
   "nbconvert_exporter": "python",
   "pygments_lexer": "ipython3",
   "version": "3.10.4"
  }
 },
 "nbformat": 4,
 "nbformat_minor": 5
}
