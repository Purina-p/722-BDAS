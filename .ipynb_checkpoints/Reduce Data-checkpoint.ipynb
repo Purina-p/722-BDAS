{
 "cells": [
  {
   "cell_type": "code",
   "execution_count": 4,
   "id": "119cabae",
   "metadata": {},
   "outputs": [],
   "source": [
    "from pyspark.sql import SparkSession\n",
    "from pyspark.sql.functions import col, udf\n",
    "from pyspark.sql.types import StringType"
   ]
  },
  {
   "cell_type": "code",
   "execution_count": 5,
   "id": "ada921f2",
   "metadata": {},
   "outputs": [],
   "source": [
    "spark = SparkSession.builder.appName(\"DataProcessing\").getOrCreate()\n",
    "\n",
    "file_path = \"Processed_Merged_Dataset.csv\"\n",
    "merged_df = spark.read.csv(file_path, header=True, inferSchema=True)\n",
    "\n",
    "country_development = {\n",
    "    'developed': ['Australia', 'Austria', 'Belgium', 'Canada', 'Denmark', 'Finland', 'France', 'Germany', \n",
    "                  'Iceland', 'Ireland', 'Italy', 'Japan', 'Luxembourg', 'Netherlands', 'New Zealand', \n",
    "                  'Norway', 'Singapore', 'Spain', 'Sweden', 'Switzerland', 'United Kingdom', 'United States'],\n",
    "    'developing': ['Argentina', 'Brazil', 'China', 'India', 'Indonesia', 'Mexico', 'Russia', 'South Africa', \n",
    "                   'Turkey', 'Malaysia', 'Thailand', 'Vietnam', 'Philippines', 'Egypt', 'Nigeria', 'Pakistan'],\n",
    "    'underdeveloped': ['Afghanistan', 'Chad', 'Mali', 'Burundi', 'Sierra Leone', 'Somalia', 'Central African Republic']\n",
    "}\n",
    "\n",
    "def categorize_country(country):\n",
    "    for key, value in country_development.items():\n",
    "        if country in value:\n",
    "            return key\n",
    "    return 'to_remove'  \n",
    "\n",
    "categorize_country_udf = udf(categorize_country, StringType())\n",
    "\n",
    "merged_df = merged_df.withColumn('country_development', categorize_country_udf(col('location')))\n",
    "\n",
    "merged_df = merged_df.filter(merged_df.country_development != 'to_remove')\n"
   ]
  },
  {
   "cell_type": "code",
   "execution_count": 6,
   "id": "f494dd1e",
   "metadata": {},
   "outputs": [
    {
     "name": "stdout",
     "output_type": "stream",
     "text": [
      "Columns in the cleaned dataset:\n",
      "['HDI', 'TC', 'TD', 'STI', 'POP', 'GDPCAP', 'country_development']\n"
     ]
    }
   ],
   "source": [
    "columns_to_remove = ['iso_code', 'Unnamed: 9', 'Unnamed: 10', 'Unnamed: 11', 'Unnamed: 12', \n",
    "                     'Unnamed: 13', 'CODE', 'location', 'date', 'total_cases', 'total_deaths', \n",
    "                     'stringency_index', 'population', 'gdp_per_capita', 'human_development_index']\n",
    "merged_df = merged_df.drop(*columns_to_remove)\n",
    "print(\"Columns in the cleaned dataset:\")\n",
    "print(merged_df.columns)"
   ]
  },
  {
   "cell_type": "code",
   "execution_count": 7,
   "id": "105cd5de",
   "metadata": {},
   "outputs": [
    {
     "name": "stderr",
     "output_type": "stream",
     "text": [
      "                                                                                \r"
     ]
    }
   ],
   "source": [
    "output_path = \"Updated_Merged_Dataset.csv\"\n",
    "merged_df.write.csv(output_path, mode=\"overwrite\", header=True)"
   ]
  },
  {
   "cell_type": "code",
   "execution_count": 8,
   "id": "9644b35f",
   "metadata": {},
   "outputs": [
    {
     "ename": "ModuleNotFoundError",
     "evalue": "No module named 'sklearn'",
     "output_type": "error",
     "traceback": [
      "\u001b[0;31m---------------------------------------------------------------------------\u001b[0m",
      "\u001b[0;31mModuleNotFoundError\u001b[0m                       Traceback (most recent call last)",
      "Input \u001b[0;32mIn [8]\u001b[0m, in \u001b[0;36m<cell line: 4>\u001b[0;34m()\u001b[0m\n\u001b[1;32m      2\u001b[0m \u001b[38;5;28;01mimport\u001b[39;00m \u001b[38;5;21;01mnumpy\u001b[39;00m \u001b[38;5;28;01mas\u001b[39;00m \u001b[38;5;21;01mnp\u001b[39;00m\n\u001b[1;32m      3\u001b[0m \u001b[38;5;28;01mimport\u001b[39;00m \u001b[38;5;21;01mmatplotlib\u001b[39;00m\u001b[38;5;21;01m.\u001b[39;00m\u001b[38;5;21;01mpyplot\u001b[39;00m \u001b[38;5;28;01mas\u001b[39;00m \u001b[38;5;21;01mplt\u001b[39;00m\n\u001b[0;32m----> 4\u001b[0m \u001b[38;5;28;01mfrom\u001b[39;00m \u001b[38;5;21;01msklearn\u001b[39;00m\u001b[38;5;21;01m.\u001b[39;00m\u001b[38;5;21;01mpreprocessing\u001b[39;00m \u001b[38;5;28;01mimport\u001b[39;00m LabelEncoder\n\u001b[1;32m      5\u001b[0m \u001b[38;5;28;01mfrom\u001b[39;00m \u001b[38;5;21;01msklearn\u001b[39;00m\u001b[38;5;21;01m.\u001b[39;00m\u001b[38;5;21;01mensemble\u001b[39;00m \u001b[38;5;28;01mimport\u001b[39;00m RandomForestRegressor\n\u001b[1;32m      7\u001b[0m merged_df \u001b[38;5;241m=\u001b[39m pd\u001b[38;5;241m.\u001b[39mread_csv(\u001b[38;5;124m'\u001b[39m\u001b[38;5;124mUpdated_Merged_Dataset.csv\u001b[39m\u001b[38;5;124m'\u001b[39m)\n",
      "\u001b[0;31mModuleNotFoundError\u001b[0m: No module named 'sklearn'"
     ]
    }
   ],
   "source": [
    "import pandas as pd\n",
    "import numpy as np\n",
    "import matplotlib.pyplot as plt\n",
    "from sklearn.preprocessing import LabelEncoder\n",
    "from sklearn.ensemble import RandomForestRegressor\n",
    "\n",
    "merged_df = pd.read_csv('Updated_Merged_Dataset.csv')\n",
    "\n",
    "label_encoder = LabelEncoder()\n",
    "merged_df['country_development'] = label_encoder.fit_transform(merged_df['country_development'])\n",
    "\n",
    "selected_features = ['country_development', 'HDI', 'TC', 'TD', 'STI', 'POP']\n",
    "\n",
    "X = merged_df[selected_features]\n",
    "y = merged_df['GDPCAP']\n",
    "\n",
    "model = RandomForestRegressor(n_estimators=100)\n",
    "model.fit(X, y)\n",
    "\n",
    "importances = model.feature_importances_\n",
    "features = X.columns\n",
    "indices = np.argsort(importances)\n",
    "\n",
    "plt.figure(figsize=(12, 8))\n",
    "plt.title('Feature Importances')\n",
    "plt.barh(range(len(indices)), importances[indices], align='center')\n",
    "plt.yticks(range(len(indices)), [features[i] for i in indices])\n",
    "plt.xlabel('Relative Importance')\n",
    "plt.show()"
   ]
  },
  {
   "cell_type": "code",
   "execution_count": null,
   "id": "0ac8a5de",
   "metadata": {},
   "outputs": [],
   "source": []
  }
 ],
 "metadata": {
  "kernelspec": {
   "display_name": "Python 3 (ipykernel)",
   "language": "python",
   "name": "python3"
  },
  "language_info": {
   "codemirror_mode": {
    "name": "ipython",
    "version": 3
   },
   "file_extension": ".py",
   "mimetype": "text/x-python",
   "name": "python",
   "nbconvert_exporter": "python",
   "pygments_lexer": "ipython3",
   "version": "3.10.4"
  }
 },
 "nbformat": 4,
 "nbformat_minor": 5
}
