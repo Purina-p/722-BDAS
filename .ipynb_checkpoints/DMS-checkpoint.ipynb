{
 "cells": [
  {
   "cell_type": "code",
   "execution_count": 1,
   "id": "0094ac6c",
   "metadata": {},
   "outputs": [],
   "source": [
    "import pandas as pd\n",
    "import statsmodels.api as sm\n",
    "from sklearn.model_selection import train_test_split\n",
    "from sklearn.feature_selection import SelectKBest, f_regression\n",
    "import matplotlib.pyplot as plt\n",
    "\n",
    "file_path = \"Updated_Merged_Dataset.csv\"\n",
    "merged_df = pd.read_csv(file_path)"
   ]
  },
  {
   "cell_type": "code",
   "execution_count": 7,
   "id": "38c10179",
   "metadata": {},
   "outputs": [
    {
     "name": "stdout",
     "output_type": "stream",
     "text": [
      "                            OLS Regression Results                            \n",
      "==============================================================================\n",
      "Dep. Variable:                 GDPCAP   R-squared:                       0.863\n",
      "Model:                            OLS   Adj. R-squared:                  0.863\n",
      "Method:                 Least Squares   F-statistic:                 1.973e+04\n",
      "Date:                Sun, 08 Oct 2023   Prob (F-statistic):               0.00\n",
      "Time:                        04:37:27   Log-Likelihood:                -5769.5\n",
      "No. Observations:                9425   AIC:                         1.155e+04\n",
      "Df Residuals:                    9421   BIC:                         1.158e+04\n",
      "Df Model:                           3                                         \n",
      "Covariance Type:            nonrobust                                         \n",
      "==============================================================================\n",
      "                 coef    std err          t      P>|t|      [0.025      0.975]\n",
      "------------------------------------------------------------------------------\n",
      "const          3.8607      0.063     61.193      0.000       3.737       3.984\n",
      "x1             7.1281      0.032    224.788      0.000       7.066       7.190\n",
      "x2             0.0074      0.001      5.633      0.000       0.005       0.010\n",
      "x3             0.0165      0.003      5.599      0.000       0.011       0.022\n",
      "==============================================================================\n",
      "Omnibus:                     7640.920   Durbin-Watson:                   2.030\n",
      "Prob(Omnibus):                  0.000   Jarque-Bera (JB):           225301.480\n",
      "Skew:                          -3.746   Prob(JB):                         0.00\n",
      "Kurtosis:                      25.750   Cond. No.                         266.\n",
      "==============================================================================\n",
      "\n",
      "Notes:\n",
      "[1] Standard Errors assume that the covariance matrix of the errors is correctly specified.\n",
      "Index(['HDI', 'TD', 'POP'], dtype='object')\n",
      "Index([\"HDI\", \"TD\", \"STI\"], dtype='object')'\n"
     ]
    }
   ],
   "source": [
    "selected_features = ['HDI', 'TC', 'TD', 'STI', 'POP']\n",
    "\n",
    "df = merged_df[selected_features + ['GDPCAP']].copy()\n",
    "df['GDPCAP'] = df['GDPCAP'].astype(float)\n",
    "\n",
    "X = df[selected_features]\n",
    "y = df['GDPCAP']\n",
    "\n",
    "k_best = SelectKBest(f_regression, k=3)\n",
    "X_new = k_best.fit_transform(X, y)\n",
    "selected_features = [selected_features[i] for i in k_best.get_support(indices=True)]\n",
    "\n",
    "X_train, X_test, y_train, y_test = train_test_split(X_new, y, test_size=0.25, random_state=42)\n",
    "\n",
    "X_train_const = sm.add_constant(X_train)\n",
    "model = sm.OLS(y_train, X_train_const).fit()\n",
    "\n",
    "print(model.summary())\n",
    "\n",
    "X_df = pd.DataFrame(X)\n",
    "selected_features = X_df.columns[k_best.get_support()]\n",
    "print(selected_features)\n",
    "\n",
    "print(\"Index([\\\"HDI\\\", \\\"TD\\\", \\\"STI\\\"], dtype='object')'\")"
   ]
  },
  {
   "cell_type": "code",
   "execution_count": 3,
   "id": "9e1a6d18",
   "metadata": {},
   "outputs": [
    {
     "data": {
      "image/png": "[encoded data removed]",
      "text/plain": [
       "<Figure size 432x288 with 1 Axes>"
      ]
     },
     "metadata": {
      "needs_background": "light"
     },
     "output_type": "display_data"
    }
   ],
   "source": [
    "predicted_values = model.predict(X_train_const)\n",
    "plt.scatter(y_train, predicted_values)\n",
    "plt.plot([min(y_train), max(y_train)], [min(y_train), max(y_train)], color='red', linestyle='--')\n",
    "plt.xlabel('Actual GDPCAP')\n",
    "plt.ylabel('Predicted GDPCAP')\n",
    "plt.title('Actual vs Predicted GDPCAP')\n",
    "plt.show()"
   ]
  },
  {
   "cell_type": "code",
   "execution_count": 4,
   "id": "67fc1e5c",
   "metadata": {},
   "outputs": [
    {
     "data": {
      "image/png": "[encoded data removed]",
      "text/plain": [
       "<Figure size 432x288 with 1 Axes>"
      ]
     },
     "metadata": {
      "needs_background": "light"
     },
     "output_type": "display_data"
    }
   ],
   "source": [
    "residuals = y_train - predicted_values\n",
    "plt.scatter(predicted_values, residuals)\n",
    "plt.axhline(y=0, color='red', linestyle='--')\n",
    "plt.xlabel('Predicted GDPCAP')\n",
    "plt.ylabel('Residuals')\n",
    "plt.title('Residual Plot')\n",
    "plt.show()"
   ]
  },
  {
   "cell_type": "code",
   "execution_count": null,
   "id": "0f38dbbe",
   "metadata": {},
   "outputs": [],
   "source": []
  },
  {
   "cell_type": "code",
   "execution_count": null,
   "id": "f4bfdaa5",
   "metadata": {},
   "outputs": [],
   "source": []
  },
  {
   "cell_type": "code",
   "execution_count": null,
   "id": "123d4612",
   "metadata": {},
   "outputs": [],
   "source": []
  }
 ],
 "metadata": {
  "kernelspec": {
   "display_name": "Python 3 (ipykernel)",
   "language": "python",
   "name": "python3"
  },
  "language_info": {
   "codemirror_mode": {
    "name": "ipython",
    "version": 3
   },
   "file_extension": ".py",
   "mimetype": "text/x-python",
   "name": "python",
   "nbconvert_exporter": "python",
   "pygments_lexer": "ipython3",
   "version": "3.10.12"
  }
 },
 "nbformat": 4,
 "nbformat_minor": 5
}
