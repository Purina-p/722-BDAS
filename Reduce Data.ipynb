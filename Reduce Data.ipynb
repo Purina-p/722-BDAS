{
 "cells": [
  {
   "cell_type": "code",
   "execution_count": 1,
   "id": "119cabae",
   "metadata": {},
   "outputs": [],
   "source": [
    "from pyspark.sql import SparkSession\n",
    "from pyspark.sql.functions import col, udf\n",
    "from pyspark.sql.types import StringType"
   ]
  },
  {
   "cell_type": "code",
   "execution_count": 2,
   "id": "ada921f2",
   "metadata": {},
   "outputs": [
    {
     "name": "stderr",
     "output_type": "stream",
     "text": [
      "WARNING: An illegal reflective access operation has occurred\n",
      "WARNING: Illegal reflective access by org.apache.spark.unsafe.Platform (file:/home/ubuntu/.local/lib/python3.10/site-packages/pyspark/jars/spark-unsafe_2.12-3.2.1.jar) to constructor java.nio.DirectByteBuffer(long,int)\n",
      "WARNING: Please consider reporting this to the maintainers of org.apache.spark.unsafe.Platform\n",
      "WARNING: Use --illegal-access=warn to enable warnings of further illegal reflective access operations\n",
      "WARNING: All illegal access operations will be denied in a future release\n",
      "Using Spark's default log4j profile: org/apache/spark/log4j-defaults.properties\n",
      "Setting default log level to \"WARN\".\n",
      "To adjust logging level use sc.setLogLevel(newLevel). For SparkR, use setLogLevel(newLevel).\n",
      "23/10/07 05:32:10 WARN NativeCodeLoader: Unable to load native-hadoop library for your platform... using builtin-java classes where applicable\n",
      "23/10/07 05:32:11 WARN Utils: Service 'SparkUI' could not bind on port 4040. Attempting port 4041.\n",
      "                                                                                \r"
     ]
    }
   ],
   "source": [
    "spark = SparkSession.builder.appName(\"DataProcessing\").getOrCreate()\n",
    "\n",
    "file_path = \"Processed_Merged_Dataset.csv\"\n",
    "merged_df = spark.read.csv(file_path, header=True, inferSchema=True)\n",
    "\n",
    "country_development = {\n",
    "    'developed': ['Australia', 'Austria', 'Belgium', 'Canada', 'Denmark', 'Finland', 'France', 'Germany', \n",
    "                  'Iceland', 'Ireland', 'Italy', 'Japan', 'Luxembourg', 'Netherlands', 'New Zealand', \n",
    "                  'Norway', 'Singapore', 'Spain', 'Sweden', 'Switzerland', 'United Kingdom', 'United States'],\n",
    "    'developing': ['Argentina', 'Brazil', 'China', 'India', 'Indonesia', 'Mexico', 'Russia', 'South Africa', \n",
    "                   'Turkey', 'Malaysia', 'Thailand', 'Vietnam', 'Philippines', 'Egypt', 'Nigeria', 'Pakistan'],\n",
    "    'underdeveloped': ['Afghanistan', 'Chad', 'Mali', 'Burundi', 'Sierra Leone', 'Somalia', 'Central African Republic']\n",
    "}\n",
    "\n",
    "def categorize_country(country):\n",
    "    for key, value in country_development.items():\n",
    "        if country in value:\n",
    "            return key\n",
    "    return 'to_remove'  \n",
    "\n",
    "categorize_country_udf = udf(categorize_country, StringType())\n",
    "\n",
    "merged_df = merged_df.withColumn('country_development', categorize_country_udf(col('location')))\n",
    "\n",
    "merged_df = merged_df.filter(merged_df.country_development != 'to_remove')\n"
   ]
  },
  {
   "cell_type": "code",
   "execution_count": 3,
   "id": "f494dd1e",
   "metadata": {},
   "outputs": [
    {
     "name": "stdout",
     "output_type": "stream",
     "text": [
      "Columns in the cleaned dataset:\n",
      "['HDI', 'TC', 'TD', 'STI', 'POP', 'GDPCAP', 'country_development']\n"
     ]
    }
   ],
   "source": [
    "columns_to_remove = ['iso_code', 'Unnamed: 9', 'Unnamed: 10', 'Unnamed: 11', 'Unnamed: 12', \n",
    "                     'Unnamed: 13', 'CODE', 'location', 'date', 'total_cases', 'total_deaths', \n",
    "                     'stringency_index', 'population', 'gdp_per_capita', 'human_development_index']\n",
    "merged_df = merged_df.drop(*columns_to_remove)\n",
    "print(\"Columns in the cleaned dataset:\")\n",
    "print(merged_df.columns)"
   ]
  },
  {
   "cell_type": "code",
   "execution_count": 5,
   "id": "fc0e730e",
   "metadata": {},
   "outputs": [],
   "source": [
    "import os\n",
    "import shutil"
   ]
  },
  {
   "cell_type": "code",
   "execution_count": 6,
   "id": "105cd5de",
   "metadata": {},
   "outputs": [
    {
     "name": "stderr",
     "output_type": "stream",
     "text": [
      "                                                                                \r"
     ]
    }
   ],
   "source": [
    "output_folder = \"TempOutputFolderForUpdatedData\"\n",
    "output_file_path = os.path.join(output_folder, \"part-00000-*.csv\")\n",
    "\n",
    "merged_df.coalesce(1).write.csv(output_folder, mode=\"overwrite\", header=True)\n",
    "\n",
    "for filename in os.listdir(output_folder):\n",
    "    if filename.startswith(\"part-00000\"):\n",
    "        shutil.move(os.path.join(output_folder, filename), \"Updated_Merged_Dataset.csv\")\n",
    "\n",
    "shutil.rmtree(output_folder)"
   ]
  },
  {
   "cell_type": "code",
   "execution_count": 7,
   "id": "9644b35f",
   "metadata": {},
   "outputs": [
    {
     "data": {
      "image/png": "[encoded data removed]",
      "text/plain": [
       "<Figure size 864x576 with 1 Axes>"
      ]
     },
     "metadata": {
      "needs_background": "light"
     },
     "output_type": "display_data"
    }
   ],
   "source": [
    "import pandas as pd\n",
    "import numpy as np\n",
    "import matplotlib.pyplot as plt\n",
    "from sklearn.preprocessing import LabelEncoder\n",
    "from sklearn.ensemble import RandomForestRegressor\n",
    "\n",
    "merged_df = pd.read_csv('Updated_Merged_Dataset.csv')\n",
    "\n",
    "label_encoder = LabelEncoder()\n",
    "merged_df['country_development'] = label_encoder.fit_transform(merged_df['country_development'])\n",
    "\n",
    "selected_features = ['country_development', 'HDI', 'TC', 'TD', 'STI', 'POP']\n",
    "\n",
    "X = merged_df[selected_features]\n",
    "y = merged_df['GDPCAP']\n",
    "\n",
    "model = RandomForestRegressor(n_estimators=100)\n",
    "model.fit(X, y)\n",
    "\n",
    "importances = model.feature_importances_\n",
    "features = X.columns\n",
    "indices = np.argsort(importances)\n",
    "\n",
    "plt.figure(figsize=(12, 8))\n",
    "plt.title('Feature Importances')\n",
    "plt.barh(range(len(indices)), importances[indices], align='center')\n",
    "plt.yticks(range(len(indices)), [features[i] for i in indices])\n",
    "plt.xlabel('Relative Importance')\n",
    "plt.show()"
   ]
  },
  {
   "cell_type": "code",
   "execution_count": null,
   "id": "0ac8a5de",
   "metadata": {},
   "outputs": [],
   "source": []
  }
 ],
 "metadata": {
  "kernelspec": {
   "display_name": "Python 3 (ipykernel)",
   "language": "python",
   "name": "python3"
  },
  "language_info": {
   "codemirror_mode": {
    "name": "ipython",
    "version": 3
   },
   "file_extension": ".py",
   "mimetype": "text/x-python",
   "name": "python",
   "nbconvert_exporter": "python",
   "pygments_lexer": "ipython3",
   "version": "3.10.4"
  }
 },
 "nbformat": 4,
 "nbformat_minor": 5
}
